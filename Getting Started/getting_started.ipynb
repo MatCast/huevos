{
 "cells": [
  {
   "cell_type": "code",
   "execution_count": 1,
   "metadata": {},
   "outputs": [],
   "source": [
    "import pandas as pd\n",
    "import matplotlib.pyplot as plt"
   ]
  },
  {
   "cell_type": "markdown",
   "metadata": {},
   "source": [
    "## Variables"
   ]
  },
  {
   "cell_type": "code",
   "execution_count": 2,
   "metadata": {},
   "outputs": [
    {
     "name": "stdout",
     "output_type": "stream",
     "text": [
      "4\n",
      "3\n"
     ]
    }
   ],
   "source": [
    "my_var  = 3\n",
    "print(my_var + 1)\n",
    "print(my_var)"
   ]
  },
  {
   "cell_type": "code",
   "execution_count": 3,
   "metadata": {},
   "outputs": [
    {
     "name": "stdout",
     "output_type": "stream",
     "text": [
      "4\n"
     ]
    }
   ],
   "source": [
    "my_var = my_var + 1 # equivalent to my_var += 1\n",
    "print(my_var)"
   ]
  },
  {
   "cell_type": "code",
   "execution_count": 4,
   "metadata": {},
   "outputs": [
    {
     "name": "stdout",
     "output_type": "stream",
     "text": [
      "12345\n"
     ]
    }
   ],
   "source": [
    "a_string = '12345 Hello There'\n",
    "also_a_string = \"With double quotes\"\n",
    "print(a_string[0:5])"
   ]
  },
  {
   "cell_type": "markdown",
   "metadata": {},
   "source": [
    "What will this print?"
   ]
  },
  {
   "cell_type": "code",
   "execution_count": 5,
   "metadata": {},
   "outputs": [],
   "source": [
    "# print(a_string + 'oh my')"
   ]
  },
  {
   "cell_type": "markdown",
   "metadata": {},
   "source": [
    "And what will this print?"
   ]
  },
  {
   "cell_type": "code",
   "execution_count": 6,
   "metadata": {},
   "outputs": [],
   "source": [
    "# print(a_string)"
   ]
  },
  {
   "cell_type": "markdown",
   "metadata": {},
   "source": [
    "And this?"
   ]
  },
  {
   "cell_type": "code",
   "execution_count": 7,
   "metadata": {},
   "outputs": [],
   "source": [
    "# a_string += ' oh my'\n",
    "# print(a_string)"
   ]
  },
  {
   "cell_type": "markdown",
   "metadata": {},
   "source": [
    "## Lists\n",
    "Variable with iteratable items."
   ]
  },
  {
   "cell_type": "code",
   "execution_count": 8,
   "metadata": {},
   "outputs": [],
   "source": [
    "my_list = [1, 2, 3, 4, 5]\n",
    "my_str_list = ['a0', 'b1', 'c2', 'd3', 'e4']"
   ]
  },
  {
   "cell_type": "code",
   "execution_count": 9,
   "metadata": {},
   "outputs": [
    {
     "name": "stdout",
     "output_type": "stream",
     "text": [
      "1 0\n"
     ]
    }
   ],
   "source": [
    "print(my_list[0], my_str_list[0][1])"
   ]
  },
  {
   "cell_type": "code",
   "execution_count": 10,
   "metadata": {},
   "outputs": [
    {
     "name": "stdout",
     "output_type": "stream",
     "text": [
      "[0, 2, 3, 7, 5]\n"
     ]
    }
   ],
   "source": [
    "my_list[0] = 0\n",
    "my_list[3] += 3\n",
    "print(my_list) "
   ]
  },
  {
   "cell_type": "markdown",
   "metadata": {},
   "source": [
    "#### Careful\n",
    "Lists are pointers to memory: "
   ]
  },
  {
   "cell_type": "code",
   "execution_count": 11,
   "metadata": {},
   "outputs": [
    {
     "name": "stdout",
     "output_type": "stream",
     "text": [
      "my_list: ['New Item', 2, 3, 7, 5], new_list: ['New Item', 2, 3, 7, 5]\n"
     ]
    }
   ],
   "source": [
    "new_list = my_list\n",
    "new_list[0] = 'New Item'\n",
    "print(f'my_list: {my_list}, new_list: {new_list}')"
   ]
  },
  {
   "cell_type": "markdown",
   "metadata": {},
   "source": [
    "## Dictionaries\n",
    "Objects which are defined by a key and its item(s)"
   ]
  },
  {
   "cell_type": "code",
   "execution_count": 12,
   "metadata": {},
   "outputs": [],
   "source": [
    "my_dict = {'huevos': 3, 'date': '2020-03-07', 'gallinas': ['maria', 'genoveffa', 'sandra']}"
   ]
  },
  {
   "cell_type": "markdown",
   "metadata": {},
   "source": [
    "You can access any of the items by asking for their keys:"
   ]
  },
  {
   "cell_type": "code",
   "execution_count": 13,
   "metadata": {},
   "outputs": [
    {
     "name": "stdout",
     "output_type": "stream",
     "text": [
      "huevos: 3\n",
      "gallinas: ['maria', 'genoveffa', 'sandra']\n"
     ]
    }
   ],
   "source": [
    "print(f'huevos: {my_dict[\"huevos\"]}')\n",
    "print(f'gallinas: {my_dict[\"gallinas\"]}')"
   ]
  },
  {
   "cell_type": "markdown",
   "metadata": {},
   "source": [
    "Now we have a dictionary which has an element (gallinas) which is actually a list! CHAOS!!!!\n",
    "\n",
    "What whill this print?"
   ]
  },
  {
   "cell_type": "code",
   "execution_count": 14,
   "metadata": {},
   "outputs": [],
   "source": [
    "# my_dict[\"gallinas\"][0]"
   ]
  },
  {
   "cell_type": "markdown",
   "metadata": {},
   "source": [
    "## If statements\n",
    "Needed to have different outcomes dependent on conditions"
   ]
  },
  {
   "cell_type": "code",
   "execution_count": 15,
   "metadata": {},
   "outputs": [],
   "source": [
    "if type(my_list[0]) == str:\n",
    "    my_list[0] = 1\n",
    "else:\n",
    "    my_list[0] = 0"
   ]
  },
  {
   "cell_type": "code",
   "execution_count": 16,
   "metadata": {},
   "outputs": [],
   "source": [
    "if type(new_list[0]) == str:\n",
    "    new_list[0] = 1\n",
    "elif new_list[0] > 0 :\n",
    "    new_list[0] = 'Another Item'"
   ]
  },
  {
   "cell_type": "markdown",
   "metadata": {},
   "source": [
    "## For loops\n",
    "Needed to repeat a task multiple times"
   ]
  },
  {
   "cell_type": "markdown",
   "metadata": {},
   "source": [
    "### Compound interests\n",
    "How much money will i have in some years if i know that each year my money will grow by a fix percentage?"
   ]
  },
  {
   "cell_type": "code",
   "execution_count": 17,
   "metadata": {},
   "outputs": [
    {
     "name": "stdout",
     "output_type": "stream",
     "text": [
      "25937.424601000006\n"
     ]
    }
   ],
   "source": [
    "rate_yr = 0.1 # 10%\n",
    "capital = 10000\n",
    "years = 10\n",
    "for i in range(years):\n",
    "    capital += capital * rate_yr\n",
    "print(capital)"
   ]
  },
  {
   "cell_type": "markdown",
   "metadata": {},
   "source": [
    "## Functions!\n",
    "Write a piece of resuable code"
   ]
  },
  {
   "cell_type": "code",
   "execution_count": 18,
   "metadata": {},
   "outputs": [],
   "source": [
    "def yearly_capital(capital, rate_yr):\n",
    "    \"\"\"Returns the initial increased byt the interest rate.\"\"\"\n",
    "    capital += capital * rate_yr \n",
    "    return capital"
   ]
  },
  {
   "cell_type": "code",
   "execution_count": 19,
   "metadata": {},
   "outputs": [],
   "source": [
    "def compund_interests(capital, rate_yr, years):\n",
    "    \"\"\"Returns the initial increased by the interest rate for the number of years\"\"\"\n",
    "    for i in range(years):\n",
    "        capital = yearly_capital(capital, rate_yr)\n",
    "    return capital"
   ]
  },
  {
   "cell_type": "code",
   "execution_count": 20,
   "metadata": {},
   "outputs": [
    {
     "data": {
      "text/plain": [
       "67274.99949325602"
      ]
     },
     "execution_count": 20,
     "metadata": {},
     "output_type": "execute_result"
    }
   ],
   "source": [
    "compund_interests(capital, rate_yr, years)"
   ]
  },
  {
   "cell_type": "markdown",
   "metadata": {},
   "source": [
    "This seems like a lot of money!!! What happened? The initial capital we used is the ```capital``` variable which was increased from 10000 to the value reached after the for cycle."
   ]
  },
  {
   "cell_type": "markdown",
   "metadata": {},
   "source": [
    "## Let's have a some fun!!\n",
    "What happens to our capital if we change the yearly rate of growth of our capital?"
   ]
  },
  {
   "cell_type": "code",
   "execution_count": 21,
   "metadata": {},
   "outputs": [
    {
     "data": {
      "text/plain": [
       "[21589.24997272787,\n",
       " 23673.636745921172,\n",
       " 25937.424601000006,\n",
       " 28394.209860690156,\n",
       " 31058.482083442083]"
      ]
     },
     "execution_count": 21,
     "metadata": {},
     "output_type": "execute_result"
    }
   ],
   "source": [
    "rates = [0.08, 0.09, 0.1, 0.11, 0.12, ]\n",
    "capital = 10000\n",
    "capital_outcome = []\n",
    "for rate_yr in rates:\n",
    "    capital_outcome.append(compund_interests(capital, rate_yr, years))\n",
    "capital_outcome"
   ]
  },
  {
   "cell_type": "markdown",
   "metadata": {},
   "source": [
    "Ok but looking at numbers is quite sad...."
   ]
  },
  {
   "cell_type": "code",
   "execution_count": 22,
   "metadata": {},
   "outputs": [
    {
     "data": {
      "text/plain": [
       "[<matplotlib.lines.Line2D at 0x7f54baf7cb90>]"
      ]
     },
     "execution_count": 22,
     "metadata": {},
     "output_type": "execute_result"
    },
    {
     "data": {
      "image/png": "[encoded data removed]",
      "text/plain": [
       "<Figure size 432x288 with 1 Axes>"
      ]
     },
     "metadata": {
      "needs_background": "light"
     },
     "output_type": "display_data"
    }
   ],
   "source": [
    "plt.plot(rates, capital_outcome)"
   ]
  },
  {
   "cell_type": "code",
   "execution_count": 31,
   "metadata": {},
   "outputs": [],
   "source": [
    "rates = [0.08, 0.09, 0.1, 0.11, 0.12, ]\n",
    "init_capital = 10000\n",
    "annualized_outcome = []\n",
    "capital_outcome = []\n",
    "for rate_yr in rates:\n",
    "    # rate_yr = 0.08\n",
    "    capital = init_capital\n",
    "    for i in range(years):\n",
    "        # i = 0\n",
    "        capital = yearly_capital(capital, rate_yr)\n",
    "        annualized_outcome.append(capital)\n",
    "    capital_outcome.append(annualized_outcome)\n",
    "    annualized_outcome = []"
   ]
  },
  {
   "cell_type": "code",
   "execution_count": 32,
   "metadata": {},
   "outputs": [
    {
     "data": {
      "text/plain": [
       "[[10800.0,\n",
       "  11664.0,\n",
       "  12597.12,\n",
       "  13604.8896,\n",
       "  14693.280768,\n",
       "  15868.74322944,\n",
       "  17138.242687795202,\n",
       "  18509.30210281882,\n",
       "  19990.046271044324,\n",
       "  21589.24997272787],\n",
       " [10900.0,\n",
       "  11881.0,\n",
       "  12950.29,\n",
       "  14115.8161,\n",
       "  15386.239549,\n",
       "  16771.00110841,\n",
       "  18280.3912081669,\n",
       "  19925.62641690192,\n",
       "  21718.932794423094,\n",
       "  23673.636745921172],\n",
       " [11000.0,\n",
       "  12100.0,\n",
       "  13310.0,\n",
       "  14641.0,\n",
       "  16105.1,\n",
       "  17715.61,\n",
       "  19487.171000000002,\n",
       "  21435.888100000004,\n",
       "  23579.476910000005,\n",
       "  25937.424601000006],\n",
       " [11100.0,\n",
       "  12321.0,\n",
       "  13676.31,\n",
       "  15180.704099999999,\n",
       "  16850.581551,\n",
       "  18704.14552161,\n",
       "  20761.6015289871,\n",
       "  23045.37769717568,\n",
       "  25580.369243865007,\n",
       "  28394.209860690156],\n",
       " [11200.0,\n",
       "  12544.0,\n",
       "  14049.28,\n",
       "  15735.1936,\n",
       "  17623.416832,\n",
       "  19738.226851839998,\n",
       "  22106.814074060796,\n",
       "  24759.63176294809,\n",
       "  27730.78757450186,\n",
       "  31058.482083442083]]"
      ]
     },
     "execution_count": 32,
     "metadata": {},
     "output_type": "execute_result"
    }
   ],
   "source": [
    "capital_outcome"
   ]
  },
  {
   "cell_type": "code",
   "execution_count": 40,
   "metadata": {},
   "outputs": [
    {
     "data": {
      "image/png": "[encoded data removed]",
      "text/plain": [
       "<Figure size 432x288 with 1 Axes>"
      ]
     },
     "metadata": {
      "needs_background": "light"
     },
     "output_type": "display_data"
    }
   ],
   "source": [
    "for co in capital_outcome:\n",
    "    plt.plot(list(range(1, years + 1)), co)"
   ]
  },
  {
   "cell_type": "code",
   "execution_count": 37,
   "metadata": {},
   "outputs": [
    {
     "data": {
      "text/plain": [
       "10"
      ]
     },
     "execution_count": 37,
     "metadata": {},
     "output_type": "execute_result"
    }
   ],
   "source": [
    "years"
   ]
  },
  {
   "cell_type": "markdown",
   "metadata": {},
   "source": [
    "## Classes\n",
    "Classes are a wonderful programming tool available in python which allows you to create objects representing real world items. For example let's say we want to create a user in a web application: it will probably have a username a password a first and a last name. Let's program this:"
   ]
  },
  {
   "cell_type": "code",
   "execution_count": 42,
   "metadata": {},
   "outputs": [],
   "source": [
    "class User():\n",
    "    def __init__(self, username, password, first_name, last_name):\n",
    "        \"\"\"Here we defin the basic attributes of the user\"\"\"\n",
    "        self.username = username\n",
    "        self.password = password\n",
    "        self.first_name = first_name\n",
    "        self.last_name = last_name\n",
    "    \n",
    "    def get_full_name(self):\n",
    "        \"\"\"Returns full name of the user\"\"\"\n",
    "        return self.first_name + ' ' + self.last_name"
   ]
  },
  {
   "cell_type": "code",
   "execution_count": 44,
   "metadata": {},
   "outputs": [
    {
     "name": "stdout",
     "output_type": "stream",
     "text": [
      "John Doe\n"
     ]
    }
   ],
   "source": [
    "user = User('john_doe', 'john_psw', 'John', 'Doe')\n",
    "print(user.get_full_name()) # note the dot notation (we already saw it when appending items to the list)"
   ]
  },
  {
   "cell_type": "code",
   "execution_count": 45,
   "metadata": {},
   "outputs": [
    {
     "name": "stdout",
     "output_type": "stream",
     "text": [
      "john_psw\n"
     ]
    }
   ],
   "source": [
    "print(user.password)"
   ]
  },
  {
   "cell_type": "code",
   "execution_count": 47,
   "metadata": {},
   "outputs": [
    {
     "data": {
      "image/png": "[encoded data removed]",
      "text/plain": [
       "<Figure size 432x288 with 1 Axes>"
      ]
     },
     "metadata": {
      "needs_background": "light"
     },
     "output_type": "display_data"
    }
   ],
   "source": [
    "ax = plt.plot(rates, capital_outcome)"
   ]
  },
  {
   "cell_type": "code",
   "execution_count": 51,
   "metadata": {},
   "outputs": [
    {
     "data": {
      "text/plain": [
       "matplotlib.lines.Line2D"
      ]
     },
     "execution_count": 51,
     "metadata": {},
     "output_type": "execute_result"
    }
   ],
   "source": [
    "type(ax[0])"
   ]
  }
 ],
 "metadata": {
  "kernelspec": {
   "display_name": "Python 3",
   "language": "python",
   "name": "python3"
  },
  "language_info": {
   "codemirror_mode": {
    "name": "ipython",
    "version": 3
   },
   "file_extension": ".py",
   "mimetype": "text/x-python",
   "name": "python",
   "nbconvert_exporter": "python",
   "pygments_lexer": "ipython3",
   "version": "3.7.6"
  }
 },
 "nbformat": 4,
 "nbformat_minor": 4
}
